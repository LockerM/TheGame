{
 "cells": [
  {
   "attachments": {},
   "cell_type": "markdown",
   "metadata": {},
   "source": [
    "Import what you need"
   ]
  },
  {
   "cell_type": "code",
   "execution_count": 4,
   "metadata": {},
   "outputs": [],
   "source": [
    "import copy\n",
    "from automation.templates.bestiary import Bestiary\n",
    "from automation.simulator.deck import Deck, Encounter"
   ]
  },
  {
   "attachments": {},
   "cell_type": "markdown",
   "metadata": {},
   "source": [
    "Use the raw dict grab various combatants"
   ]
  },
  {
   "cell_type": "code",
   "execution_count": 5,
   "metadata": {},
   "outputs": [],
   "source": [
    "b = Bestiary(input_files=\"06_Bestiary_SAMPLE.yaml\").raw_data\n",
    "c1 = b[\"Clubs1\"]\n",
    "c1.update(dict(Name=\"💀\", id=\"A\"))\n",
    "c2 = copy.copy(b[\"Clubs1\"])\n",
    "c2.update(dict(Name=\"👽\", id=\"B\"))\n",
    "s = b[\"Spider Queen\"]\n",
    "s.update(dict(Name=\"🎇\", id=\"C\"))"
   ]
  },
  {
   "attachments": {},
   "cell_type": "markdown",
   "metadata": {},
   "source": [
    "As example:"
   ]
  },
  {
   "cell_type": "code",
   "execution_count": 6,
   "metadata": {},
   "outputs": [
    {
     "name": "stdout",
     "output_type": "stream",
     "text": [
      "{'AP': 2,\n",
      " 'Attribs': {'AGL': 1, 'GUT': 1, 'INT': -1, 'STR': 1, 'VIT': 1},\n",
      " 'HP': 7,\n",
      " 'Level': 1,\n",
      " 'Name': '💀',\n",
      " 'PP': 2,\n",
      " 'Powers': ['Attack, Weapon',\n",
      "            'Attack, Charge',\n",
      "            'Attack, Dual-Wield',\n",
      "            'Momentum',\n",
      "            'Dumb',\n",
      "            'Sweep',\n",
      "            'Drown'],\n",
      " 'Primary_Skill': 'Brute',\n",
      " 'Pronouns': 'He/Him',\n",
      " 'Role': 'Defender',\n",
      " 'Skills': {'Athletics': 1,\n",
      "            'Brute': 1,\n",
      "            'Finesse': 1,\n",
      "            'Investigation': -1,\n",
      "            'Knowledge': -1,\n",
      "            'Stealth': 1},\n",
      " 'Type': 'PC',\n",
      " 'id': 'A'}\n"
     ]
    }
   ],
   "source": [
    "from pprint import pprint\n",
    "\n",
    "pprint(c1)"
   ]
  },
  {
   "attachments": {},
   "cell_type": "markdown",
   "metadata": {},
   "source": [
    "Run encounter:"
   ]
  },
  {
   "cell_type": "code",
   "execution_count": 7,
   "metadata": {},
   "outputs": [
    {
     "name": "stderr",
     "output_type": "stream",
     "text": [
      "[2023-01-16 11:36:58,024][INFO]: 🎇 used 0/6 PP with Sear\n",
      "[2023-01-16 11:36:58,025][INFO]: 💀 is Burned 🔥: 1\n",
      "[2023-01-16 11:36:58,025][INFO]: 🎇 used 0/6 PP with Attack, Mystic\n",
      "[2023-01-16 11:36:58,025][INFO]: 💀 used 1/2 PP with Attack, Charge\n",
      "[2023-01-16 11:36:58,025][INFO]: 💀 shakes off Burned\n",
      "[2023-01-16 11:36:58,026][INFO]: 👽 used 0/2 PP with Attack, Weapon\n",
      "[2023-01-16 11:36:58,026][INFO]: 👽 wounded 🎇 by 1: AP 1/2, HP 8/8\n",
      "[2023-01-16 11:36:58,026][INFO]: 👽 used 0/2 PP with Drown\n",
      "[2023-01-16 11:36:58,026][INFO]: 🎇 is Suffocating 🔥: 1\n"
     ]
    }
   ],
   "source": [
    "e = Encounter(PCs=[c1, c2], Enemies=[s])\n",
    "e.sim_round()"
   ]
  },
  {
   "cell_type": "code",
   "execution_count": 8,
   "metadata": {},
   "outputs": [
    {
     "name": "stderr",
     "output_type": "stream",
     "text": [
      "[2023-01-16 11:37:01,049][INFO]: Party 1, GM 0 | 💀 Major Success\n",
      "[2023-01-16 11:37:01,050][INFO]: Party 1, GM 1 | GM Suited Hit\n",
      "[2023-01-16 11:37:01,051][INFO]: Party 1, GM 2 | GM Major Success\n",
      "[2023-01-16 11:37:01,051][INFO]: Party 2, GM 2 | 💀 Suited Hit\n",
      "[2023-01-16 11:37:01,052][INFO]: Party 3, GM 2 | 👽 Critical Success\n",
      "[2023-01-16 11:37:01,053][INFO]: Party wins after 24 total cards drawn\n"
     ]
    }
   ],
   "source": [
    "e.sim_epic_event(successes_needed=3)"
   ]
  },
  {
   "cell_type": "code",
   "execution_count": null,
   "metadata": {},
   "outputs": [],
   "source": []
  }
 ],
 "metadata": {
  "kernelspec": {
   "display_name": "doa",
   "language": "python",
   "name": "python3"
  },
  "language_info": {
   "codemirror_mode": {
    "name": "ipython",
    "version": 3
   },
   "file_extension": ".py",
   "mimetype": "text/x-python",
   "name": "python",
   "nbconvert_exporter": "python",
   "pygments_lexer": "ipython3",
   "version": "3.9.15"
  },
  "orig_nbformat": 4,
  "vscode": {
   "interpreter": {
    "hash": "6b646fa577b0af43f34eae6415ef36aca8df47e0f93409f9d4a964f073b55a67"
   }
  }
 },
 "nbformat": 4,
 "nbformat_minor": 2
}

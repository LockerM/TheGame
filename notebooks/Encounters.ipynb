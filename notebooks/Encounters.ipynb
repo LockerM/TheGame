{
 "cells": [
  {
   "attachments": {},
   "cell_type": "markdown",
   "metadata": {},
   "source": [
    "## Simulating encounters\n",
    "\n",
    "If this is your first time using a notebook, please ensure you have [Python installed](https://www.python.org/downloads/) and you have installed the additional dependencies with the following command: `pip install -r ./automation/requirements.txt`\n",
    "\n",
    "First, we'll navigate to the repo's root:\n"
   ]
  },
  {
   "cell_type": "code",
   "execution_count": 1,
   "metadata": {},
   "outputs": [],
   "source": [
    "import os\n",
    "\n",
    "if os.path.basename(os.getcwd()) != \"TheGame\":\n",
    "    os.chdir(\"..\")"
   ]
  },
  {
   "attachments": {},
   "cell_type": "markdown",
   "metadata": {},
   "source": [
    "Next, import what you need:\n"
   ]
  },
  {
   "cell_type": "code",
   "execution_count": 2,
   "metadata": {},
   "outputs": [],
   "source": [
    "import copy\n",
    "from automation.templates import Bestiary\n",
    "from automation.simulator import Deck, Encounter"
   ]
  },
  {
   "attachments": {},
   "cell_type": "markdown",
   "metadata": {},
   "source": [
    "Use the Bestiary to provide dictionaries for each of the combatants. We can use emojis to represent them in the combat output. The Name value will be shown in the log.\n",
    "\n",
    "Note that files with SAMPLE in the name are designed to workshop ideas and test edge cases, not be included in the game.\n"
   ]
  },
  {
   "cell_type": "code",
   "execution_count": 11,
   "metadata": {},
   "outputs": [],
   "source": [
    "b = Bestiary(input_files=\"06_Bestiary_SAMPLE.yaml\").raw_data\n",
    "c1 = b[\"Clubs1\"]\n",
    "c1.update(dict(Name=\"💀\", id=\"Defender1\"))\n",
    "c2 = copy.copy(b[\"Clubs1\"])\n",
    "c2.update(dict(Name=\"👽\", id=\"Defender2\"))\n",
    "s1 = b[\"Spades1\"]\n",
    "s1.update(dict(Name=\"♠️\", id=\"Spades1\"))\n",
    "g1 = b[\"Spades1\"]\n",
    "g1.update(dict(Name=\"🛡️1\"), id=\"Guard1\")\n",
    "g2 = copy.copy(b[\"Spades1\"])\n",
    "g2.update(dict(Name=\"🛡️2\"), id=\"Guard2\")\n",
    "# s = b[\"Spider Queen\"]\n",
    "# s.update(dict(Name=\"🎇\", id=\"C\"))"
   ]
  },
  {
   "attachments": {},
   "cell_type": "markdown",
   "metadata": {},
   "source": [
    "Initialize the encounter. We can see who is involved and resource information by looking at the encounter's `PCs`, `enemies`, or `turn_order` properties.\n",
    "\n",
    "Note that this may differ from a real encounter because each participant has their own hand and deck. In a true encounter, a GM might manage many characters with the same deck.\n"
   ]
  },
  {
   "cell_type": "code",
   "execution_count": 12,
   "metadata": {},
   "outputs": [
    {
     "data": {
      "text/plain": [
       "[💀\n",
       " TC       : ♦️ 8 | pc.HP : 6/6\n",
       " Hand     :  02 | pc.PP : 2/2\n",
       " Deck     :  51 | pc.AP : 2/2\n",
       " Discards :  01 | RestC : 6/6,\n",
       " 🛡️2\n",
       " TC       : ♦️ 5 | pc.HP : 5/5\n",
       " Hand     :  02 | pc.PP : 4/4\n",
       " Deck     :  51 | pc.AP : 0/0\n",
       " Discards :  01 | RestC : 5/5,\n",
       " 🛡️1\n",
       " TC       : ♥️ 2 | pc.HP : 5/5\n",
       " Hand     :  02 | pc.PP : 4/4\n",
       " Deck     :  51 | pc.AP : 0/0\n",
       " Discards :  01 | RestC : 5/5,\n",
       " 🛡️1\n",
       " TC       : ♠️ 9 | pc.HP : 5/5\n",
       " Hand     :  02 | pc.PP : 4/4\n",
       " Deck     :  51 | pc.AP : 0/0\n",
       " Discards :  01 | RestC : 5/5,\n",
       " 👽\n",
       " TC       : ♠️ T | pc.HP : 6/6\n",
       " Hand     :  02 | pc.PP : 2/2\n",
       " Deck     :  51 | pc.AP : 2/2\n",
       " Discards :  01 | RestC : 6/6]"
      ]
     },
     "execution_count": 12,
     "metadata": {},
     "output_type": "execute_result"
    }
   ],
   "source": [
    "e = Encounter(PCs=[c1, c2, s1], Enemies=[g1,g2])\n",
    "e.turn_order"
   ]
  },
  {
   "attachments": {},
   "cell_type": "markdown",
   "metadata": {},
   "source": [
    "Next, we can simulate a couple rounds of combat. Here, each participant will choose a Power available to them (if sufficient PP) and apply it to an enemy at random. This does not yet cover buffing powers (e.g., Shield, Lend Aid) or mind control status effects (i.e., Charmed, Enthralled).\n"
   ]
  },
  {
   "cell_type": "code",
   "execution_count": 13,
   "metadata": {},
   "outputs": [
    {
     "name": "stderr",
     "output_type": "stream",
     "text": [
      "[47:27][INFO]: 💀 used 0/2 PP with Attack, Vengeance\n",
      "[47:27][INFO]: 💀 used 1/2 PP with Shield, Self\n",
      "[47:27][INFO]: 🛡️2 used 1/4 PP with Attack, Charge\n",
      "[47:27][INFO]: 🛡️2 used 0/3 PP with Stealthy Surprise\n",
      "[47:27][INFO]: 🛡️2 wounded 💀 by 1: AP 1/2, HP 6/6\n",
      "[47:27][INFO]: 🛡️1 used 1/4 PP with Attack, Charge\n",
      "[47:27][INFO]: 🛡️1 wounded 🛡️2 by 2: AP 0/0, HP 3/5\n",
      "[47:27][INFO]: 🛡️1 used 0/3 PP with Stealthy Surprise\n",
      "[47:27][INFO]: 🛡️1 wounded 🛡️2 by 1: AP 0/0, HP 2/5\n",
      "[47:27][INFO]: 🛡️1 used 1/4 PP with Attack, Sweep\n",
      "[47:27][INFO]: 💀 is Knocked Down: 1\n",
      "[47:27][INFO]: 🛡️1 wounded 💀 by 1: AP 0/2, HP 6/6\n",
      "[47:27][INFO]: 🛡️1 used 0/3 PP with Stealthy Surprise\n",
      "[47:27][INFO]: 🛡️1 wounded 🛡️1 by 1: AP 0/0, HP 4/5\n",
      "[47:27][INFO]: 👽 used 1/2 PP with Shield, Self\n",
      "[47:27][INFO]: 👽 used 0/1 PP with Attack, Weapon\n",
      "[47:27][INFO]: 👽 wounded 🛡️2 by 1: AP 0/0, HP 1/5\n",
      "[47:27][INFO]: 💀 gets up\n",
      "[47:27][INFO]: 💀 used 1/1 PP with Shield, Self\n",
      "[47:27][INFO]: 💀 used 0/0 PP with Attack, Vengeance\n",
      "[47:27][INFO]: 💀 wounded 🛡️2 by 1: AP 0/0, HP 0/5\n",
      "[47:27][INFO]: 🛡️2 is Knocked Out, no turn\n",
      "[47:27][INFO]: 🛡️1 used 0/3 PP with Stealthy Surprise\n",
      "[47:27][INFO]: 🛡️2 attacked again while KO. Epic Event not simulated.\n",
      "[47:27][INFO]: 🛡️1 wounded 🛡️2 by 1: AP 0/0, HP -1/5\n",
      "[47:27][INFO]: 🛡️1 used 1/3 PP with Attack, Charge\n",
      "[47:27][INFO]: 🛡️1 used 1/3 PP with Attack, Sweep\n",
      "[47:27][INFO]: 💀 resisted Knocked Down\n",
      "[47:27][INFO]: 🛡️1 wounded 💀 by 1: AP 0/2, HP 5/6\n",
      "[47:27][INFO]: 🛡️1 used 0/2 PP with Stealthy Surprise\n",
      "[47:27][INFO]: 🛡️1 wounded 💀 by 1: AP 0/2, HP 4/6\n",
      "[47:27][INFO]: 👽 used 1/1 PP with Shield, Self\n",
      "[47:27][INFO]: 👽 used 0/0 PP with Attack, Vengeance\n",
      "[47:27][INFO]: 🛡️2 attacked again while KO. Epic Event not simulated.\n",
      "[47:27][INFO]: 👽 wounded 🛡️2 by 1: AP 0/0, HP -2/5\n",
      "[47:27][INFO]: 💀 used 0/0 PP with Attack, Vengeance\n",
      "[47:27][INFO]: 🛡️2 attacked again while KO. Epic Event not simulated.\n",
      "[47:27][INFO]: 💀 wounded 🛡️2 by 1: AP 0/0, HP -3/5\n",
      "[47:27][INFO]: 💀 no Minor choices\n",
      "[47:27][INFO]: 🛡️2 is Knocked Out, no turn\n",
      "[47:27][INFO]: 🛡️1 used 1/2 PP with Attack, Charge\n",
      "[47:27][INFO]: 🛡️1 used 0/1 PP with Stealthy Surprise\n",
      "[47:27][INFO]: 🛡️1 used 0/2 PP with Stealthy Surprise\n",
      "[47:27][INFO]: 🛡️1 wounded 💀 by 1: AP 0/2, HP 3/6\n",
      "[47:27][INFO]: 🛡️1 used 1/2 PP with Attack, Charge\n",
      "[47:27][INFO]: 👽 no Minor choices\n",
      "[47:27][INFO]: 👽 used 0/0 PP with Attack, Vengeance\n"
     ]
    }
   ],
   "source": [
    "e.sim_round(3)"
   ]
  },
  {
   "attachments": {},
   "cell_type": "markdown",
   "metadata": {},
   "source": [
    "We can even simulate epic events.\n"
   ]
  },
  {
   "cell_type": "code",
   "execution_count": 15,
   "metadata": {},
   "outputs": [
    {
     "name": "stderr",
     "output_type": "stream",
     "text": [
      "[48:21][INFO]: Party 1, GM 0 | 💀 Major Success\n",
      "[48:21][INFO]: Party 2, GM 0 | 🛡️1 Major Success\n",
      "[48:21][INFO]: Party 2, GM 1 | GM Major Success\n",
      "[48:21][INFO]: Party 2, GM 2 | GM Major Success\n",
      "[48:21][INFO]: Party 3, GM 2 | 👽 Major Success\n",
      "[48:21][INFO]: Party wins after 56 total cards drawn\n"
     ]
    }
   ],
   "source": [
    "e.sim_epic_event(successes_needed=3)"
   ]
  },
  {
   "attachments": {},
   "cell_type": "markdown",
   "metadata": {},
   "source": [
    "Let's see how everyone is doing.\n"
   ]
  },
  {
   "cell_type": "code",
   "execution_count": 16,
   "metadata": {},
   "outputs": [
    {
     "data": {
      "text/plain": [
       "[💀\n",
       " TC       : ♦️ 8 | pc.HP : 3/6\n",
       " Hand     :  03 | pc.PP : 0/2\n",
       " Deck     :  29 | pc.AP : 0/2\n",
       " Discards :  22 | RestC : 6/6,\n",
       " 🛡️2\n",
       " TC       : ♦️ 5 | pc.HP : -3/5\n",
       " Hand     :  02 | pc.PP : 3/4\n",
       " Deck     :  49 | pc.AP : 0/0\n",
       " Discards :  03 | RestC : 5/5,\n",
       " 🛡️1\n",
       " TC       : ♥️ 2 | pc.HP : 4/5\n",
       " Hand     :  03 | pc.PP : 1/4\n",
       " Deck     :  28 | pc.AP : 0/0\n",
       " Discards :  23 | RestC : 5/5,\n",
       " 🛡️1\n",
       " TC       : ♠️ 9 | pc.HP : 5/5\n",
       " Hand     :  02 | pc.PP : 1/4\n",
       " Deck     :  45 | pc.AP : 0/0\n",
       " Discards :  07 | RestC : 5/5,\n",
       " 👽\n",
       " TC       : ♠️ T | pc.HP : 6/6\n",
       " Hand     :  03 | pc.PP : 0/2\n",
       " Deck     :  31 | pc.AP : 2/2\n",
       " Discards :  20 | RestC : 6/6]"
      ]
     },
     "execution_count": 16,
     "metadata": {},
     "output_type": "execute_result"
    }
   ],
   "source": [
    "e.turn_order"
   ]
  },
  {
   "attachments": {},
   "cell_type": "markdown",
   "metadata": {},
   "source": [
    "If you're interested in draining a specific character's resources, we can index them directly and subtract values.\n"
   ]
  },
  {
   "cell_type": "code",
   "execution_count": 17,
   "metadata": {},
   "outputs": [
    {
     "data": {
      "text/plain": [
       "🛡️1\n",
       "TC       : ♠️ 9 | pc.HP : 1/5\n",
       "Hand     :  02 | pc.PP : 1/4\n",
       "Deck     :  45 | pc.AP : 0/0\n",
       "Discards :  07 | RestC : 5/5"
      ]
     },
     "execution_count": 17,
     "metadata": {},
     "output_type": "execute_result"
    }
   ],
   "source": [
    "spider_queen = e.enemies[0]\n",
    "spider_queen.HP = 1\n",
    "spider_queen"
   ]
  },
  {
   "attachments": {},
   "cell_type": "markdown",
   "metadata": {},
   "source": [
    "The only thing that can't be set directly is the deck. This has to be managed by either drawing, using a fate card, or shuffling.\n"
   ]
  },
  {
   "cell_type": "code",
   "execution_count": 20,
   "metadata": {},
   "outputs": [
    {
     "data": {
      "text/plain": [
       "♠️ J"
      ]
     },
     "execution_count": 20,
     "metadata": {},
     "output_type": "execute_result"
    }
   ],
   "source": [
    "spider_queen.draw()"
   ]
  },
  {
   "cell_type": "code",
   "execution_count": 21,
   "metadata": {},
   "outputs": [
    {
     "name": "stderr",
     "output_type": "stream",
     "text": [
      "[49:13][INFO]: Exchanged Fate Card: 🟥 JOKER\n"
     ]
    }
   ],
   "source": [
    "spider_queen.exchange_fate()"
   ]
  },
  {
   "cell_type": "code",
   "execution_count": 25,
   "metadata": {},
   "outputs": [
    {
     "data": {
      "text/plain": [
       "🛡️1\n",
       "TC       : ♦️ K | pc.HP : 1/5\n",
       "Hand     :  01 | pc.PP : 1/4\n",
       "Deck     :  46 | pc.AP : 0/0\n",
       "Discards :  06 | RestC : 5/5"
      ]
     },
     "execution_count": 25,
     "metadata": {},
     "output_type": "execute_result"
    }
   ],
   "source": [
    "spider_queen.shuffle(2)\n",
    "spider_queen"
   ]
  },
  {
   "attachments": {},
   "cell_type": "markdown",
   "metadata": {},
   "source": [
    "We can give some or all participants a rest.\n"
   ]
  },
  {
   "cell_type": "code",
   "execution_count": 26,
   "metadata": {},
   "outputs": [
    {
     "name": "stderr",
     "output_type": "stream",
     "text": [
      "[49:25][INFO]: 💀 recovered 8 HP/PP/AP during Quick Rest\n",
      "[49:25][INFO]: 🛡️2 recovered 7 HP/PP/AP during Quick Rest\n",
      "[49:25][INFO]: 🛡️1 recovered 4 HP/PP/AP during Quick Rest\n",
      "[49:25][INFO]: 🛡️1 recovered 5 HP/PP/AP during Quick Rest\n",
      "[49:25][INFO]: 👽 recovered 2 HP/PP/AP during Quick Rest\n"
     ]
    }
   ],
   "source": [
    "e.sim_quick_rest(participants=e.PCs)  # If no participants specified, all"
   ]
  },
  {
   "cell_type": "code",
   "execution_count": 27,
   "metadata": {},
   "outputs": [
    {
     "data": {
      "text/plain": [
       "[💀\n",
       " TC       : ♥️ K | pc.HP : 7/6\n",
       " Hand     :  03 | pc.PP : 2/2\n",
       " Deck     :  36 | pc.AP : 2/2\n",
       " Discards :  15 | RestC : 3/6,\n",
       " 🛡️2\n",
       " TC       : ♠️ Q | pc.HP : 4/5\n",
       " Hand     :  03 | pc.PP : 3/4\n",
       " Deck     :  50 | pc.AP : 0/0\n",
       " Discards :  01 | RestC : 0/5,\n",
       " 🛡️1\n",
       " TC       : ♠️ 3 | pc.HP : 5/5\n",
       " Hand     :  04 | pc.PP : 4/4\n",
       " Deck     :  35 | pc.AP : 0/0\n",
       " Discards :  15 | RestC : 3/5,\n",
       " 🛡️1\n",
       " TC       : ♠️ 2 | pc.HP : 4/5\n",
       " Hand     :  01 | pc.PP : 3/4\n",
       " Deck     :  50 | pc.AP : 0/0\n",
       " Discards :  02 | RestC : 0/5,\n",
       " 👽\n",
       " TC       : ♠️ 2 | pc.HP : 6/6\n",
       " Hand     :  03 | pc.PP : 2/2\n",
       " Deck     :  41 | pc.AP : 2/2\n",
       " Discards :  10 | RestC : 5/6]"
      ]
     },
     "execution_count": 27,
     "metadata": {},
     "output_type": "execute_result"
    }
   ],
   "source": [
    "e.turn_order"
   ]
  },
  {
   "attachments": {},
   "cell_type": "markdown",
   "metadata": {},
   "source": [
    "Or a full rest.\n"
   ]
  },
  {
   "cell_type": "code",
   "execution_count": 28,
   "metadata": {},
   "outputs": [],
   "source": [
    "e.sim_full_rest()"
   ]
  },
  {
   "cell_type": "code",
   "execution_count": 29,
   "metadata": {},
   "outputs": [
    {
     "data": {
      "text/plain": [
       "[💀\n",
       " TC       : ♠️ 3 | pc.HP : 6/6\n",
       " Hand     :  03 | pc.PP : 2/2\n",
       " Deck     :  50 | pc.AP : 2/2\n",
       " Discards :  01 | RestC : 6/6,\n",
       " 🛡️2\n",
       " TC       : ♠️ T | pc.HP : 5/5\n",
       " Hand     :  03 | pc.PP : 4/4\n",
       " Deck     :  50 | pc.AP : 0/0\n",
       " Discards :  01 | RestC : 5/5,\n",
       " 🛡️1\n",
       " TC       : ♥️ 2 | pc.HP : 5/5\n",
       " Hand     :  04 | pc.PP : 4/4\n",
       " Deck     :  49 | pc.AP : 0/0\n",
       " Discards :  01 | RestC : 5/5,\n",
       " 🛡️1\n",
       " TC       : ♠️ 5 | pc.HP : 5/5\n",
       " Hand     :  02 | pc.PP : 4/4\n",
       " Deck     :  51 | pc.AP : 0/0\n",
       " Discards :  01 | RestC : 5/5,\n",
       " 👽\n",
       " TC       : ♠️ Q | pc.HP : 6/6\n",
       " Hand     :  03 | pc.PP : 2/2\n",
       " Deck     :  50 | pc.AP : 2/2\n",
       " Discards :  01 | RestC : 6/6]"
      ]
     },
     "execution_count": 29,
     "metadata": {},
     "output_type": "execute_result"
    }
   ],
   "source": [
    "e.turn_order"
   ]
  },
  {
   "attachments": {},
   "cell_type": "markdown",
   "metadata": {},
   "source": [
    "## Logging\n",
    "\n",
    "Much of the information we're seeing above in the `[TIME][INFO]` format is as a result of the [logger](https://www.loggly.com/ultimate-guide/python-logging-basics/) that keeps track of this information. We can adjust what we see by adjusting the log level.\n"
   ]
  },
  {
   "cell_type": "code",
   "execution_count": 30,
   "metadata": {},
   "outputs": [
    {
     "name": "stderr",
     "output_type": "stream",
     "text": [
      "[49:42][DEBUG]: Drew [♠️ Q, ♠️ 9] vs ♠️ 5 with TR 5 at Lower Hand 2: Color Miss\n",
      "[49:42][INFO]: 💀 used 0/2 PP with Attack, Weapon\n",
      "[49:42][DEBUG]: Drew [♠️ K] vs ♠️ 5 with TR 4: Suited Miss\n",
      "[49:42][INFO]: 💀 used 1/2 PP with Shield, Self\n",
      "[49:42][INFO]: 🛡️2 used 0/4 PP with Stealthy Surprise\n",
      "[49:42][DEBUG]: Drew [♠️ 6] vs ♥️ 2 with TR 4: Hit\n",
      "[49:42][INFO]: 🛡️2 wounded 🛡️1 by 1: AP 0/0, HP 4/5\n",
      "[49:42][INFO]: 🛡️2 used 1/4 PP with Attack, Charge\n",
      "[49:42][DEBUG]: Drew [♥️ 5] vs ♥️ 2 with TR 4: Suited Hit\n",
      "[49:42][INFO]: 🛡️2 wounded 🛡️1 by 2: AP 0/0, HP 2/5\n",
      "[49:42][INFO]: 🛡️1 used 0/4 PP with Stealthy Surprise\n",
      "[49:42][DEBUG]: Drew [♥️ 9] vs ♠️ T with TR 4: Hit\n",
      "[49:42][INFO]: 🛡️1 wounded 🛡️2 by 1: AP 0/0, HP 4/5\n",
      "[49:42][INFO]: 🛡️1 used 0/4 PP with Attack, Weapon\n",
      "[49:42][DEBUG]: Drew [♠️ 2] vs ♠️ T with TR 4: Color Miss\n",
      "[49:42][INFO]: 🛡️1 used 0/4 PP with Stealthy Surprise\n",
      "[49:42][DEBUG]: Drew [♥️ T] vs ♠️ 3 with TR 4: Miss\n",
      "[49:42][INFO]: 🛡️1 used 1/4 PP with Attack, Sweep\n",
      "[49:42][DEBUG]: Drew [♠️ 6] vs ♠️ 3 with TR 4: Suited Hit\n",
      "[49:42][INFO]: 💀 resisted Knocked Down\n",
      "[49:42][DEBUG]: Drew [♥️ 7] vs ♠️ 3 with TR 4: Hit\n",
      "[49:42][INFO]: 🛡️1 wounded 💀 by 1: AP 1/2, HP 6/6\n",
      "[49:42][INFO]: 👽 used 0/2 PP with Attack, Weapon\n",
      "[49:42][DEBUG]: Drew [♠️ T] vs ♠️ 5 with TR 4: Color Miss\n",
      "[49:42][INFO]: 👽 used 1/2 PP with Shield, Self\n"
     ]
    }
   ],
   "source": [
    "from automation.utils import logger\n",
    "\n",
    "logger.setLevel(\"DEBUG\")  # Most information\n",
    "# logger.setLevel('INFO') # Standard information\n",
    "# logger.setLevel('WARNING') # Only problems\n",
    "# logger.setLevel('CRITICAL') # No information\n",
    "spider_queen.save(DR=3, attrib=[\"AGL\", \"STR\"], upper_lower=\"lower\", draw_n=2)\n",
    "e.sim_round()"
   ]
  },
  {
   "attachments": {},
   "cell_type": "markdown",
   "metadata": {},
   "source": [
    "For a more detailed record of checks, saves, and rests, turn on CSV logging. This will save logs of who performed which check/save or rest and some associated values.\n"
   ]
  },
  {
   "cell_type": "code",
   "execution_count": 31,
   "metadata": {},
   "outputs": [
    {
     "name": "stderr",
     "output_type": "stream",
     "text": [
      "[49:59][INFO]: 💀 used 1/1 PP with Shield, Self\n",
      "[49:59][INFO]: 💀 used 0/0 PP with Attack, Weapon\n",
      "[49:59][DEBUG]: Drew [♦️ 3] vs ♠️ T with TR 4: Miss\n",
      "[49:59][INFO]: 🛡️2 used 0/3 PP with Stealthy Surprise\n",
      "[49:59][DEBUG]: Drew [♥️ 4] vs ♠️ 3 with TR 4: Hit\n",
      "[49:59][INFO]: 🛡️2 wounded 💀 by 1: AP 0/2, HP 6/6\n",
      "[49:59][INFO]: 🛡️2 used 1/3 PP with Attack, Charge\n",
      "[49:59][DEBUG]: Drew [♥️ 3] vs ♠️ Q with TR 4: Hit\n",
      "[49:59][INFO]: 🛡️2 wounded 👽 by 2: AP 0/2, HP 6/6\n",
      "[49:59][INFO]: 🛡️1 used 0/4 PP with Stealthy Surprise\n",
      "[49:59][DEBUG]: Drew [♦️ K] vs ♠️ 5 with TR 4: Miss\n",
      "[49:59][INFO]: 🛡️1 used 1/4 PP with Attack, Charge\n",
      "[49:59][DEBUG]: Drew [♦️ 6] vs ♠️ 5 with TR 4: Hit\n",
      "[49:59][INFO]: 🛡️1 wounded 🛡️1 by 2: AP 0/0, HP 3/5\n",
      "[49:59][INFO]: 🛡️1 used 1/3 PP with Attack, Sweep\n",
      "[49:59][DEBUG]: Drew [♠️ 7] vs ♠️ 3 with TR 4: Color Hit\n",
      "[49:59][INFO]: 💀 resisted Knocked Down\n",
      "[49:59][DEBUG]: Drew [♦️ 8] vs ♠️ 3 with TR 4: Miss\n",
      "[49:59][INFO]: 🛡️1 used 0/2 PP with Stealthy Surprise\n",
      "[49:59][DEBUG]: Drew [♠️ 3] vs ♠️ 3 with TR 4: Critical Success\n",
      "[49:59][INFO]: 🛡️1 wounded 💀 by 2: AP 0/2, HP 4/6\n",
      "[49:59][INFO]: 👽 used 1/1 PP with Shield, Self\n",
      "[49:59][INFO]: 👽 used 0/0 PP with Attack, Vengeance\n",
      "[49:59][DEBUG]: Drew [♠️ 8] vs ♠️ T with TR 4: Suited Hit\n",
      "[49:59][INFO]: 👽 wounded 🛡️2 by 1: AP 0/0, HP 3/5\n",
      "[49:59][DEBUG]: Drew [♥️ Q] vs ♠️ 3 with TR 3: Miss\n",
      "[49:59][DEBUG]: Recovering 1 with cards\n",
      "[49:59][DEBUG]:    1 HP to 5\n",
      "[49:59][DEBUG]: Drew [♠️ A] vs ♠️ 3 with TR 3: Suited Hit\n",
      "[49:59][DEBUG]: Recovering 2 with cards\n",
      "[49:59][DEBUG]:    1 PP to 1\n",
      "[49:59][DEBUG]:    1 HP to 6\n",
      "[49:59][DEBUG]: Drew [♥️ 7] vs ♠️ 3 with TR 3: Miss\n",
      "[49:59][DEBUG]: Recovering 1 with cards\n",
      "[49:59][DEBUG]:    1 PP to 2\n",
      "[49:59][DEBUG]: Drew [♦️ 6] vs ♠️ 3 with TR 5: Hit\n",
      "[49:59][DEBUG]: Recovering 2 AP to 2\n",
      "[49:59][INFO]: 💀 recovered 6 HP/PP/AP during Quick Rest\n",
      "[49:59][DEBUG]: Drew [♠️ 3] vs ♠️ T with TR 3: Color Miss\n",
      "[49:59][DEBUG]: Recovering 1 with cards\n",
      "[49:59][DEBUG]:    1 HP to 4\n",
      "[49:59][DEBUG]: Drew [♦️ 3] vs ♠️ T with TR 3: Miss\n",
      "[49:59][DEBUG]: Recovering 1 with cards\n",
      "[49:59][DEBUG]:    1 PP to 3\n",
      "[49:59][DEBUG]: Drew [♦️ K] vs ♠️ T with TR 3: Hit\n",
      "[49:59][DEBUG]: Recovering 2 with cards\n",
      "[49:59][DEBUG]:    1 HP to 5\n",
      "[49:59][DEBUG]:    1 PP to 4\n",
      "[49:59][INFO]: 🛡️2 recovered 4 HP/PP/AP during Quick Rest\n",
      "[49:59][DEBUG]: Drew [♠️ 4] vs ♥️ 2 with TR 3: Hit\n",
      "[49:59][DEBUG]: Recovering 2 with cards\n",
      "[49:59][DEBUG]:    1 HP to 3\n",
      "[49:59][DEBUG]:    1 HP to 4\n",
      "[49:59][DEBUG]: Drew [♠️ 3] vs ♥️ 2 with TR 3: Hit\n",
      "[49:59][DEBUG]: Recovering 2 with cards\n",
      "[49:59][DEBUG]:    1 HP to 5\n",
      "[49:59][DEBUG]:    1 PP to 4\n",
      "[49:59][INFO]: 🛡️1 recovered 4 HP/PP/AP during Quick Rest\n",
      "[49:59][DEBUG]: Drew [♥️ 5] vs ♠️ 5 with TR 3: Major Success\n",
      "[49:59][DEBUG]: Recovering 2 with cards\n",
      "[49:59][DEBUG]:    1 HP to 4\n",
      "[49:59][DEBUG]:    1 PP to 3\n",
      "[49:59][DEBUG]: Drew [♠️ 8] vs ♠️ 5 with TR 3: Color Hit\n",
      "[49:59][DEBUG]: Recovering 2 with cards\n",
      "[49:59][DEBUG]:    1 HP to 5\n",
      "[49:59][DEBUG]:    1 PP to 4\n",
      "[49:59][INFO]: 🛡️1 recovered 4 HP/PP/AP during Quick Rest\n",
      "[49:59][DEBUG]: Drew [♦️ 6] vs ♠️ Q with TR 3: Miss\n",
      "[49:59][DEBUG]: Recovering 1 with cards\n",
      "[49:59][DEBUG]:    1 PP to 1\n",
      "[49:59][DEBUG]: Drew [♠️ J] vs ♠️ Q with TR 3: Color Hit\n",
      "[49:59][DEBUG]: Recovering 2 with cards\n",
      "[49:59][DEBUG]:    1 PP to 2\n",
      "[49:59][DEBUG]:    1 HP to 7\n",
      "[49:59][DEBUG]: Drew [♥️ T] vs ♠️ Q with TR 5: Hit\n",
      "[49:59][DEBUG]: Recovering 2 AP to 2\n",
      "[49:59][INFO]: 👽 recovered 5 HP/PP/AP during Quick Rest\n"
     ]
    }
   ],
   "source": [
    "e.set_csv_logging(True)\n",
    "e.sim_round()\n",
    "e.sim_quick_rest()"
   ]
  },
  {
   "attachments": {},
   "cell_type": "markdown",
   "metadata": {},
   "source": [
    "The following uses system commands rather than Python to look at the output. To use this data more meaningfully, try loading the data with [pandas](https://pythonbasics.org/read-csv-with-pandas/).\n"
   ]
  },
  {
   "cell_type": "code",
   "execution_count": null,
   "metadata": {},
   "outputs": [],
   "source": [
    "!head automation/_output/log_draws.csv"
   ]
  },
  {
   "cell_type": "code",
   "execution_count": null,
   "metadata": {},
   "outputs": [],
   "source": [
    "!head automation/_output/log_rests.csv"
   ]
  },
  {
   "cell_type": "code",
   "execution_count": null,
   "metadata": {},
   "outputs": [],
   "source": []
  }
 ],
 "metadata": {
  "kernelspec": {
   "display_name": "Python 3",
   "language": "python",
   "name": "python3"
  },
  "language_info": {
   "codemirror_mode": {
    "name": "ipython",
    "version": 3
   },
   "file_extension": ".py",
   "mimetype": "text/x-python",
   "name": "python",
   "nbconvert_exporter": "python",
   "pygments_lexer": "ipython3",
   "version": "3.10.9"
  },
  "orig_nbformat": 4,
  "vscode": {
   "interpreter": {
    "hash": "e50035b3dfd539dbd2dca26cbba61024e04488120c7d4591534a01642a5bb0ca"
   }
  }
 },
 "nbformat": 4,
 "nbformat_minor": 2
}

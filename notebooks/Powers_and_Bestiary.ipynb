{
 "cells": [
  {
   "attachments": {},
   "cell_type": "markdown",
   "metadata": {},
   "source": [
    "## Handling custom classes\n",
    "\n",
    "If this is your first time using a notebook, please ensure you have [Python installed](https://www.python.org/downloads/) and you have installed the additional dependencies with the following command: `pip install -r ./automation/requirements.txt`\n",
    "\n",
    "First, we'll navigate to the repo's root:\n"
   ]
  },
  {
   "cell_type": "code",
   "execution_count": 1,
   "metadata": {},
   "outputs": [],
   "source": [
    "import os\n",
    "\n",
    "if os.path.basename(os.getcwd()) != \"TheGame\":\n",
    "    os.chdir(\"..\")"
   ]
  },
  {
   "attachments": {},
   "cell_type": "markdown",
   "metadata": {},
   "source": [
    "Next, import what you need:\n"
   ]
  },
  {
   "cell_type": "code",
   "execution_count": 2,
   "metadata": {},
   "outputs": [],
   "source": [
    "from automation.templates import Powers, Bestiary"
   ]
  },
  {
   "attachments": {},
   "cell_type": "markdown",
   "metadata": {},
   "source": [
    "### Loading Powers\n",
    "\n",
    "We can load lists of Powers from one or more sources. A Power is defined by a `yaml` file through various features. For example:\n",
    "\n",
    "```yaml\n",
    "Attack, Mystic Aura:\n",
    "  Category:\n",
    "    - Combat\n",
    "    - Mystic Attacks\n",
    "  Description: You deploy resources to channel magic all around you.\n",
    "  Mechanic: Perform Mystic Attack on all characters within 1-2 space(s)\n",
    "  Type: Major\n",
    "  XP: 2\n",
    "  PP: [1, 2]\n",
    "  Prereq:\n",
    "    Power: Attack, Mystic\n",
    "    Role:\n",
    "      - Caster\n",
    "      - Support\n",
    "```\n",
    "\n",
    "We can load all Powers from one or more files with the `Powers` class. This includes Vulnerabilities. The files with SAMPLE in the name are designed to workshop ideas and test edge cases, not be included in the game.\n"
   ]
  },
  {
   "cell_type": "code",
   "execution_count": 3,
   "metadata": {},
   "outputs": [],
   "source": [
    "all_powers = Powers(input_files=[\"04_Powers.yaml\", \"05_Vulnerabilities.yaml\"])"
   ]
  },
  {
   "attachments": {},
   "cell_type": "markdown",
   "metadata": {},
   "source": [
    "This class offers a number of options, including looking at categories, writing the set to markdown or csv, and looking at individual items.\n"
   ]
  },
  {
   "cell_type": "code",
   "execution_count": 4,
   "metadata": {},
   "outputs": [
    {
     "data": {
      "text/plain": [
       "Power\n",
       "(Name=Attack, Mystic Aura\n",
       "Description=You deploy resources to channel your magic all around you.\n",
       "Mechanic=Major. For 1 or 2 PP, You perform your Mystic Attack on all characters within 1 or 2 space(s)\n",
       "XP=2\n",
       "Prereq=Prereq(Role=['Caster', 'Support'], Level=None, Skill=None, Power='Attack, Mystic')\n",
       "Tags=Multi-target)"
      ]
     },
     "execution_count": 4,
     "metadata": {},
     "output_type": "execute_result"
    }
   ],
   "source": [
    "# all_powers.categories\n",
    "# all_powers.write_md()\n",
    "all_powers.as_dict[\"Attack, Mystic Aura\"]"
   ]
  },
  {
   "attachments": {},
   "cell_type": "markdown",
   "metadata": {},
   "source": [
    "### Loading Bestiary\n",
    "\n",
    "More powerfully, however, Powers support the Bestiary, which includes the set of PCs, NPCs and Bosses one might use in an [Encounter](./Encounters.ipynb). We can similarly load Beasts from `yaml` files with predefined structure. For example:\n",
    "\n",
    "```yaml\n",
    "Grunt:\n",
    "  Type: NPC\n",
    "  HP: 2\n",
    "  AR: 3\n",
    "  PP: 0\n",
    "  Attribs:\n",
    "    AGL: 1\n",
    "    INT: -1\n",
    "  Powers:\n",
    "    - Attack, Weapon\n",
    "  Level: 1\n",
    "  Description: A low level soldier.\n",
    "```\n",
    "\n",
    "For more information about required or default values, please inspect the `Beast` class.\n"
   ]
  },
  {
   "cell_type": "code",
   "execution_count": 5,
   "metadata": {},
   "outputs": [],
   "source": [
    "bestiary = Bestiary(input_files=\"06_Bestiary.yaml\")"
   ]
  },
  {
   "attachments": {},
   "cell_type": "markdown",
   "metadata": {},
   "source": [
    "This class has similar capabilities as the `Powers` class for saving output as well as looking at individual cases.\n"
   ]
  },
  {
   "cell_type": "code",
   "execution_count": 6,
   "metadata": {},
   "outputs": [
    {
     "data": {
      "text/plain": [
       "Beast\n",
       "(Type=Dealer\n",
       "Name=Mystic, Caster\n",
       "Level=2\n",
       "HP=5\n",
       "AR=3\n",
       "PP=3\n",
       "Attribs=Attribs, (AGL=-1, CON=1, INT=1, STR=-1)\n",
       "Description=A powerful Caster with access to mystic attacks.)"
      ]
     },
     "execution_count": 6,
     "metadata": {},
     "output_type": "execute_result"
    }
   ],
   "source": [
    "bestiary.as_dict[\"Mystic, Caster\"]"
   ]
  },
  {
   "cell_type": "code",
   "execution_count": 7,
   "metadata": {},
   "outputs": [
    {
     "data": {
      "text/plain": [
       "Beast\n",
       "(Type=Dealer\n",
       "Name=Mystic, Caster\n",
       "Level=2\n",
       "HP=5\n",
       "AR=3\n",
       "PP=3\n",
       "Attribs=Attribs, (AGL=-1, CON=1, INT=1, STR=-1)\n",
       "Description=A powerful Caster with access to mystic attacks.)"
      ]
     },
     "execution_count": 7,
     "metadata": {},
     "output_type": "execute_result"
    }
   ],
   "source": [
    "caster = bestiary.as_dict[\"Mystic, Caster\"]\n",
    "caster"
   ]
  },
  {
   "attachments": {},
   "cell_type": "markdown",
   "metadata": {},
   "source": [
    "These classes are really useful, however, when we add them to an [Encounter](./Encounters.ipynb).\n"
   ]
  },
  {
   "attachments": {},
   "cell_type": "markdown",
   "metadata": {},
   "source": [
    "## Writing files\n",
    "\n",
    "To write out each of the various file types (markdown, csv, image), we can simply call the `yaml_to_other` function.\n",
    "\n",
    "Note that png output refers to character sheets, which are currently only available for PCs.\n"
   ]
  },
  {
   "cell_type": "code",
   "execution_count": 8,
   "metadata": {},
   "outputs": [
    {
     "name": "stderr",
     "output_type": "stream",
     "text": [
      "[35:14][INFO]: Started 04_Powers.yaml\n",
      "[35:14][INFO]: Wrote md: ./docs/src/1_Mechanics/04_Powers.md\n",
      "[35:14][INFO]: Wrote csv: ./automation/_output/04_Powers.tsv\n",
      "[35:14][INFO]: Started 05_Vulnerabilities.yaml\n",
      "[35:14][INFO]: Wrote md: ./docs/src/1_Mechanics/05_Vulnerabilities.md\n",
      "[35:14][INFO]: Wrote csv: ./automation/_output/05_Vulnerabilities.tsv\n",
      "[35:14][INFO]: Started 06_Bestiary.yaml\n",
      "[35:15][INFO]: Wrote md: ./docs/src/1_Mechanics/06_Bestiary.md\n",
      "[35:15][INFO]: Wrote csv: ./automation/_output/06_Bestiary.tsv\n",
      "[35:15][INFO]: Wrote csv: ./automation/_output/04_Powers_Combined.tsv\n"
     ]
    }
   ],
   "source": [
    "from automation.templates.main import yaml_to_other\n",
    "\n",
    "yaml_to_other(\n",
    "    input_files=[\"04_Powers.yaml\", \"05_Vulnerabilities.yaml\", \"06_Bestiary.yaml\"],\n",
    "    writing=[\"md\", \"csv\", \"png\"],\n",
    "    out_delim=\"\\t\",  # CSV delimiter - \",\" is also available\n",
    ")"
   ]
  },
  {
   "cell_type": "code",
   "execution_count": null,
   "metadata": {},
   "outputs": [],
   "source": []
  }
 ],
 "metadata": {
  "kernelspec": {
   "display_name": "doa",
   "language": "python",
   "name": "python3"
  },
  "language_info": {
   "codemirror_mode": {
    "name": "ipython",
    "version": 3
   },
   "file_extension": ".py",
   "mimetype": "text/x-python",
   "name": "python",
   "nbconvert_exporter": "python",
   "pygments_lexer": "ipython3",
   "version": "3.9.15"
  },
  "orig_nbformat": 4,
  "vscode": {
   "interpreter": {
    "hash": "6b646fa577b0af43f34eae6415ef36aca8df47e0f93409f9d4a964f073b55a67"
   }
  }
 },
 "nbformat": 4,
 "nbformat_minor": 2
}
